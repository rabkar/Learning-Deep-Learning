{
 "cells": [
  {
   "cell_type": "code",
   "execution_count": 1,
   "metadata": {},
   "outputs": [
    {
     "name": "stderr",
     "output_type": "stream",
     "text": [
      "C:\\ProgramData\\Anaconda3\\envs\\tensorflow\\lib\\site-packages\\h5py\\__init__.py:36: FutureWarning: Conversion of the second argument of issubdtype from `float` to `np.floating` is deprecated. In future, it will be treated as `np.float64 == np.dtype(float).type`.\n",
      "  from ._conv import register_converters as _register_converters\n",
      "Using TensorFlow backend.\n"
     ]
    },
    {
     "name": "stdout",
     "output_type": "stream",
     "text": [
      "Backend ok\n"
     ]
    }
   ],
   "source": [
    "import tensorflow as tf\n",
    "import os\n",
    "os.environ[\"KERAS_BACKEND\"] = \"tensorflow\"\n",
    "import keras; import keras.backend\n",
    "if keras.backend.backend() != 'tensorflow':\n",
    "    raise BaseException(\"This script uses other backend\")\n",
    "else:\n",
    "    keras.backend.set_image_dim_ordering('tf')\n",
    "    print(\"Backend ok\")\n",
    "\n",
    "from matplotlib import pyplot as plt\n",
    "import numpy as np\n",
    "from keras.models import Sequential\n",
    "from keras.layers import Dense, Dropout, Flatten\n",
    "from keras.utils import np_utils\n",
    "from PIL import Image\n",
    "from scipy import ndimage"
   ]
  },
  {
   "cell_type": "code",
   "execution_count": 2,
   "metadata": {},
   "outputs": [],
   "source": [
    "seed = 7\n",
    "np.random.seed(seed)"
   ]
  },
  {
   "cell_type": "markdown",
   "metadata": {},
   "source": [
    "# Import MNIST Handwriting Dataset"
   ]
  },
  {
   "cell_type": "code",
   "execution_count": 2,
   "metadata": {},
   "outputs": [],
   "source": [
    "from keras.datasets import mnist\n",
    "\n",
    "(X_train, y_train), (X_test, y_test) = mnist.load_data()\n",
    "num_train, height, width = X_train.shape \n",
    "num_test = X_test.shape[0]\n",
    "num_classes = np.unique(y_train).shape[0]"
   ]
  },
  {
   "cell_type": "code",
   "execution_count": 5,
   "metadata": {},
   "outputs": [
    {
     "data": {
      "text/plain": [
       "array([5, 0, 4, ..., 5, 6, 8], dtype=uint8)"
      ]
     },
     "execution_count": 5,
     "metadata": {},
     "output_type": "execute_result"
    }
   ],
   "source": [
    "y_train"
   ]
  },
  {
   "cell_type": "code",
   "execution_count": 4,
   "metadata": {},
   "outputs": [
    {
     "name": "stdout",
     "output_type": "stream",
     "text": [
      "5\n"
     ]
    },
    {
     "data": {
      "image/png": "[encoded data removed]",
      "text/plain": [
       "<matplotlib.figure.Figure at 0x20755aae0b8>"
      ]
     },
     "metadata": {},
     "output_type": "display_data"
    }
   ],
   "source": [
    "idx = 0\n",
    "print(y_train[idx])\n",
    "plt.imshow(X_train[idx])\n",
    "plt.show()"
   ]
  },
  {
   "cell_type": "markdown",
   "metadata": {},
   "source": [
    "# Simple MLP Architecture"
   ]
  },
  {
   "cell_type": "code",
   "execution_count": 6,
   "metadata": {},
   "outputs": [],
   "source": [
    "# flatten 28*28 images to a 784 vector for each image\n",
    "num_pixels = height*width\n",
    "X_train_flat = X_train.reshape(num_train, num_pixels).astype('float32')\n",
    "X_test_flat = X_test.reshape(num_test, num_pixels).astype('float32')\n",
    "\n",
    "#normalize inputs from 0-255 to 0-1\n",
    "X_train_flat = X_train_flat/255\n",
    "X_test_flat = X_test_flat/255\n",
    "\n",
    "#one-hot encode output\n",
    "y_train_hot = np_utils.to_categorical(y_train)\n",
    "y_test_hot = np_utils.to_categorical(y_test)\n",
    "num_classes = y_test_hot.shape[1]"
   ]
  },
  {
   "cell_type": "markdown",
   "metadata": {},
   "source": [
    "The model is simple neural network with one hidden layer with the same number of neurons as there are inputs (784). A ReLu activation function is used for the neurons in the hidden layer\n",
    "\n",
    "A softmax activation function is used on the output layer to turn the outputs into probability-like values\n",
    "\n",
    "Logaritmic loss is used as the loss function (called \"categorical_crossentropy\" in Keras) and the efficient ADAM gradient descent algoirthm is used to learn the weights"
   ]
  },
  {
   "cell_type": "code",
   "execution_count": 23,
   "metadata": {},
   "outputs": [],
   "source": [
    "# design the MLP model\n",
    "def MLP_model():\n",
    "    mlp_model = Sequential()\n",
    "    mlp_model.add(Dense(num_pixels, input_dim=num_pixels, \n",
    "                        kernel_initializer='normal', activation='relu'))\n",
    "    mlp_model.add(Dense(num_classes, \n",
    "                        kernel_initializer='normal', activation='softmax'))\n",
    "    mlp_model.compile(loss='categorical_crossentropy', optimizer='adam', \n",
    "                  metrics=['accuracy'])\n",
    "    return mlp_model"
   ]
  },
  {
   "cell_type": "code",
   "execution_count": 24,
   "metadata": {},
   "outputs": [
    {
     "name": "stdout",
     "output_type": "stream",
     "text": [
      "Train on 60000 samples, validate on 10000 samples\n",
      "Epoch 1/10\n",
      " - 7s - loss: 0.2810 - acc: 0.9199 - val_loss: 0.1451 - val_acc: 0.9572\n",
      "Epoch 2/10\n",
      " - 7s - loss: 0.1101 - acc: 0.9682 - val_loss: 0.0984 - val_acc: 0.9705\n",
      "Epoch 3/10\n",
      " - 7s - loss: 0.0696 - acc: 0.9794 - val_loss: 0.0764 - val_acc: 0.9757\n",
      "Epoch 4/10\n",
      " - 7s - loss: 0.0488 - acc: 0.9858 - val_loss: 0.0762 - val_acc: 0.9758\n",
      "Epoch 5/10\n",
      " - 7s - loss: 0.0351 - acc: 0.9902 - val_loss: 0.0642 - val_acc: 0.9800\n",
      "Epoch 6/10\n",
      " - 7s - loss: 0.0257 - acc: 0.9932 - val_loss: 0.0634 - val_acc: 0.9811\n",
      "Epoch 7/10\n",
      " - 7s - loss: 0.0184 - acc: 0.9955 - val_loss: 0.0657 - val_acc: 0.9798\n",
      "Epoch 8/10\n",
      " - 7s - loss: 0.0144 - acc: 0.9968 - val_loss: 0.0571 - val_acc: 0.9824\n",
      "Epoch 9/10\n",
      " - 7s - loss: 0.0093 - acc: 0.9983 - val_loss: 0.0615 - val_acc: 0.9816\n",
      "Epoch 10/10\n",
      " - 7s - loss: 0.0071 - acc: 0.9989 - val_loss: 0.0642 - val_acc: 0.9806\n",
      "Baseline Error for MLP Model: 1.9399999999999977%\n"
     ]
    }
   ],
   "source": [
    "# build the model\n",
    "model = MLP_model()\n",
    "model.fit(X_train_flat, y_train_hot, validation_data=(X_test_flat, y_test_hot), \n",
    "          epochs=10, batch_size=200, verbose=2)\n",
    "\n",
    "# evaluation\n",
    "scores = model.evaluate(X_test_flat, y_test_hot, verbose=0)\n",
    "print(\"Baseline Error for MLP Model: {0}%\".format(100-scores[1]*100))"
   ]
  },
  {
   "cell_type": "markdown",
   "metadata": {},
   "source": [
    "# Simple Convolutional Neural Network"
   ]
  },
  {
   "cell_type": "code",
   "execution_count": 5,
   "metadata": {},
   "outputs": [],
   "source": [
    "from keras.layers.convolutional import Conv2D\n",
    "from keras.layers.convolutional import MaxPooling2D\n",
    "from keras import backend as K\n",
    "K.set_image_dim_ordering('th')"
   ]
  },
  {
   "cell_type": "markdown",
   "metadata": {},
   "source": [
    "Dataset should be reshaped into a shape that is suitable for training a CNN. In Keras, the layers used for 2D convolution expect dimension [pixel]][width][height].\n",
    "\n",
    "In case of RGB, the [pixel] dimension would be 3. While for the grayscale MNIST dataset, the [pixel] dimension is set to 1"
   ]
  },
  {
   "cell_type": "code",
   "execution_count": 6,
   "metadata": {},
   "outputs": [],
   "source": [
    "# reshape to suit the Keras CNN input shape\n",
    "X_train_conv = X_train.reshape(X_train.shape[0], 1, 28, 28).astype('float32')\n",
    "X_test_conv = X_test.reshape(X_test.shape[0], 1, 28, 28).astype('float32')\n",
    "\n",
    "# mapminmax rescaling\n",
    "X_train_conv = X_train_conv/255\n",
    "X_test_conv = X_test_conv/255\n",
    "\n",
    "#one-hot encode output\n",
    "y_train_hot = np_utils.to_categorical(y_train)\n",
    "y_test_hot = np_utils.to_categorical(y_test)\n",
    "num_classes = y_test_hot.shape[1]"
   ]
  },
  {
   "cell_type": "markdown",
   "metadata": {},
   "source": [
    "The simple convolutional network structure is as follows:\n",
    "\n",
    "1. The first hidden layer is a convolutional layer called Convolution2d. It has 32 feature maps, which with the size of 5x5 and a ReLu activation funcion. This is the input layer, expecting images with the structure outlined above [pixels][width][height]\n",
    "\n",
    "2. Secind hidden layer is 2D MaxPooling layer. It is configured with a pool size of 2x2\n",
    "\n",
    "3. Third layer is a regularization layer using Dropout. It is configured to randomly exclude 20% of neurons in the layer in order to reduce overfitting\n",
    "\n",
    "4. Next is a layer that converts 2D matrix data into vector called Flatten. It allows the output to be processed by standard fully-connected layers\n",
    "\n",
    "5. Next is a fully connected layers with 128 neurons and ReLu activation funcition\n",
    "\n",
    "6. Finally, the output layeer with 10 neurons for 10 classes and a softmax activation function to output a ptobability-like prediction of each class\n",
    "\n",
    "As before, the model is trained using logarithmic loss function and the ADAM gradient descent algorithm"
   ]
  },
  {
   "cell_type": "code",
   "execution_count": 77,
   "metadata": {},
   "outputs": [],
   "source": [
    "def CNN_model():\n",
    "    model = Sequential()\n",
    "    model.add(Conv2D(32, (5, 5), input_shape=(1,28,28), activation='relu'))\n",
    "    model.add(MaxPooling2D(pool_size=(2,2)))\n",
    "    model.add(Dropout(0.2))\n",
    "    model.add(Flatten())\n",
    "    model.add(Dense(128, activation='relu'))\n",
    "    model.add(Dense(num_classes, activation='softmax'))\n",
    "    model.compile(loss='categorical_crossentropy', \n",
    "                  optimizer='adam', metrics=['accuracy'])\n",
    "    return model"
   ]
  },
  {
   "cell_type": "code",
   "execution_count": 386,
   "metadata": {},
   "outputs": [
    {
     "name": "stdout",
     "output_type": "stream",
     "text": [
      "Train on 60000 samples, validate on 10000 samples\n",
      "Epoch 1/10\n",
      " - 154s - loss: 0.2576 - acc: 0.9260 - val_loss: 0.0822 - val_acc: 0.9761\n",
      "Epoch 2/10\n",
      " - 154s - loss: 0.0762 - acc: 0.9773 - val_loss: 0.0553 - val_acc: 0.9836\n",
      "Epoch 3/10\n",
      " - 162s - loss: 0.0538 - acc: 0.9832 - val_loss: 0.0452 - val_acc: 0.9859\n",
      "Epoch 4/10\n",
      " - 169s - loss: 0.0418 - acc: 0.9872 - val_loss: 0.0392 - val_acc: 0.9872\n",
      "Epoch 5/10\n",
      " - 174s - loss: 0.0337 - acc: 0.9894 - val_loss: 0.0364 - val_acc: 0.9881\n",
      "Epoch 6/10\n",
      " - 166s - loss: 0.0289 - acc: 0.9907 - val_loss: 0.0342 - val_acc: 0.9888\n",
      "Epoch 7/10\n",
      " - 171s - loss: 0.0250 - acc: 0.9918 - val_loss: 0.0349 - val_acc: 0.9884\n",
      "Epoch 8/10\n",
      " - 171s - loss: 0.0205 - acc: 0.9934 - val_loss: 0.0323 - val_acc: 0.9896\n",
      "Epoch 9/10\n",
      " - 169s - loss: 0.0180 - acc: 0.9943 - val_loss: 0.0337 - val_acc: 0.9890\n",
      "Epoch 10/10\n",
      " - 184s - loss: 0.0153 - acc: 0.9951 - val_loss: 0.0336 - val_acc: 0.9898\n",
      "Error for CNN Model: 1.019999999999996%\n"
     ]
    }
   ],
   "source": [
    "#build the model\n",
    "cnn_model = CNN_model()\n",
    "#fit the model\n",
    "cnn_model.fit(X_train_conv, y_train_hot, \n",
    "              validation_data=(X_test_conv, y_test_hot),\n",
    "              epochs=10, batch_size=200, verbose=2\n",
    "             )\n",
    "#evaluation of the model\n",
    "scores = cnn_model.evaluate(X_test_conv, y_test_hot, verbose=0)\n",
    "print(\"Error for CNN Model: {0}%\".format(100-scores[1]*100))"
   ]
  },
  {
   "cell_type": "markdown",
   "metadata": {},
   "source": [
    "# Larger Convolutional Neural Network"
   ]
  },
  {
   "cell_type": "markdown",
   "metadata": {},
   "source": [
    "We will build larger CNN with topology as follows;\n",
    "\n",
    "1. Convolutional laye with 30 feature maps of size 5x5\n",
    "2. Pooling layer taking the max over 2x2 patches\n",
    "3. Convolutional layer with 15 feature maps of size 3x3\n",
    "4. Pooling layer taking the max over 2x2 pathes\n",
    "5. Dropout layer with a probability of 20%\n",
    "6. Flatten layer\n",
    "7. Fully connected layer with 128 neurons and ReLu activation\n",
    "8. Fully connected layer with 50 neurons and ReLu activation\n",
    "9. Output layer"
   ]
  },
  {
   "cell_type": "code",
   "execution_count": 7,
   "metadata": {},
   "outputs": [],
   "source": [
    "def larger_CNN_model():\n",
    "    model = Sequential()\n",
    "    model.add(Conv2D(30, (5,5), input_shape=(1, 28, 28), activation='relu'))\n",
    "    model.add(MaxPooling2D(pool_size=(2,2)))\n",
    "    model.add(Conv2D(15, (3,3), activation='relu'))\n",
    "    model.add(MaxPooling2D(pool_size=(2,2)))\n",
    "    model.add(Dropout(0.2))\n",
    "    model.add(Flatten())\n",
    "    model.add(Dense(128, activation='relu'))\n",
    "    model.add(Dense(50, activation='relu'))\n",
    "    model.add(Dense(num_classes, activation='softmax'))\n",
    "    model.compile(loss='categorical_crossentropy', optimizer='adam', \n",
    "                  metrics=['accuracy']\n",
    "                 )\n",
    "    return model"
   ]
  },
  {
   "cell_type": "code",
   "execution_count": 8,
   "metadata": {},
   "outputs": [
    {
     "name": "stdout",
     "output_type": "stream",
     "text": [
      "Train on 60000 samples, validate on 10000 samples\n",
      "Epoch 1/10\n",
      " - 153s - loss: 0.3968 - acc: 0.8776 - val_loss: 0.0981 - val_acc: 0.9685\n",
      "Epoch 2/10\n",
      " - 151s - loss: 0.0943 - acc: 0.9707 - val_loss: 0.0577 - val_acc: 0.9808\n",
      "Epoch 3/10\n",
      " - 137s - loss: 0.0683 - acc: 0.9793 - val_loss: 0.0370 - val_acc: 0.9882\n",
      "Epoch 4/10\n",
      " - 144s - loss: 0.0565 - acc: 0.9823 - val_loss: 0.0337 - val_acc: 0.9891\n",
      "Epoch 5/10\n",
      " - 148s - loss: 0.0476 - acc: 0.9851 - val_loss: 0.0299 - val_acc: 0.9904\n",
      "Epoch 6/10\n",
      " - 148s - loss: 0.0434 - acc: 0.9864 - val_loss: 0.0290 - val_acc: 0.9897\n",
      "Epoch 7/10\n",
      " - 148s - loss: 0.0387 - acc: 0.9875 - val_loss: 0.0273 - val_acc: 0.9912\n",
      "Epoch 8/10\n",
      " - 148s - loss: 0.0342 - acc: 0.9890 - val_loss: 0.0240 - val_acc: 0.9920\n",
      "Epoch 9/10\n",
      " - 144s - loss: 0.0323 - acc: 0.9900 - val_loss: 0.0214 - val_acc: 0.9933\n",
      "Epoch 10/10\n",
      " - 145s - loss: 0.0280 - acc: 0.9907 - val_loss: 0.0212 - val_acc: 0.9937\n",
      "Error for CNN Model: 0.6299999999999955%\n"
     ]
    }
   ],
   "source": [
    "#build the model\n",
    "large_cnn_model = larger_CNN_model()\n",
    "#fit the model\n",
    "large_cnn_model.fit(X_train_conv, y_train_hot, \n",
    "              validation_data=(X_test_conv, y_test_hot),\n",
    "              epochs=10, batch_size=200, verbose=2\n",
    "             )\n",
    "#evaluation of the model\n",
    "scores = large_cnn_model.evaluate(X_test_conv, y_test_hot, verbose=0)\n",
    "print(\"Error for CNN Model: {0}%\".format(100-scores[1]*100))"
   ]
  },
  {
   "cell_type": "markdown",
   "metadata": {},
   "source": [
    "# Test on Image"
   ]
  },
  {
   "cell_type": "code",
   "execution_count": 11,
   "metadata": {},
   "outputs": [],
   "source": [
    "def center_image(img, resize_to=(28,28)):\n",
    "    image = img.copy()\n",
    "    image.thumbnail(resize_to, Image.ANTIALIAS)\n",
    "    image_array = 1-(np.array(image)/255)\n",
    "    \n",
    "    height, width = image_array.shape\n",
    "    resize_height, resize_width = resize_to\n",
    "    if height < resize_height:\n",
    "        pad_height = np.zeros([resize_height-height, width])\n",
    "        image_array = np.concatenate((pad_height, image_array), axis=0)\n",
    "    if width < resize_width:\n",
    "        pad_width = np.zeros([height, resize_width-width])\n",
    "        image_array = np.concatenate((pad_width, image_array), axis=1)\n",
    "\n",
    "    x, y = ndimage.measurements.center_of_mass(image_array)\n",
    "    x, y = int(x), int(y)\n",
    "    #pad on height\n",
    "    if x<int(resize_height/2):\n",
    "        pad_height = np.zeros([int(resize_height/2)-x,resize_height])\n",
    "        image_array = np.concatenate((pad_height, image_array), axis=0)\n",
    "        image_array = image_array[0:resize_height,:]\n",
    "    elif x>int(resize_height/2):\n",
    "        pad_height = np.zeros([x-int(resize_height/2),resize_height])\n",
    "        image_array = np.concatenate((image_array, pad_height), axis=0)\n",
    "        image_array = image_array[x-int(resize_height/2):,:]\n",
    "    \n",
    "    #pad on width    \n",
    "    if y<int(resize_width/2):\n",
    "        pad_width = np.zeros([resize_width,int(resize_width/2)-y])\n",
    "        image_array = np.concatenate((pad_width, image_array), axis=1)\n",
    "        image_array = image_array[:,0:resize_width]\n",
    "    elif y>int(resize_width/2):\n",
    "        pad_width = np.zeros([resize_width,y-int(resize_width/2)])\n",
    "        image_array = np.concatenate((image_array, pad_width), axis=1)\n",
    "        image_array = image_array[:,y-int(resize_width/2):]\n",
    "    \n",
    "    return image_array"
   ]
  },
  {
   "cell_type": "code",
   "execution_count": 9,
   "metadata": {},
   "outputs": [
    {
     "name": "stdout",
     "output_type": "stream",
     "text": [
      "Predicted: 6\n"
     ]
    },
    {
     "data": {
      "image/png": "[encoded data removed]",
      "text/plain": [
       "<matplotlib.figure.Figure at 0x2075c096be0>"
      ]
     },
     "metadata": {},
     "output_type": "display_data"
    }
   ],
   "source": [
    "index = int(1000*np.abs(np.random.randn()))\n",
    "prediction = large_cnn_model.predict(X_test_conv[index].reshape(1,1,28,28))\n",
    "print(\"Predicted: {0}\".format(np.argmax(prediction)))\n",
    "\n",
    "plt.imshow(X_test_conv[index].reshape(28, 28))\n",
    "plt.savefig('hw_digit_7.png')\n",
    "plt.colorbar()\n",
    "plt.show()"
   ]
  },
  {
   "cell_type": "code",
   "execution_count": 35,
   "metadata": {},
   "outputs": [
    {
     "name": "stdout",
     "output_type": "stream",
     "text": [
      "0: 0.02%\n",
      "1: 0.0%\n",
      "2: 0.01%\n",
      "3: 0.0%\n",
      "4: 0.14%\n",
      "5: 0.08%\n",
      "6: 99.68%\n",
      "7: 0.0%\n",
      "8: 0.07%\n",
      "9: 0.0%\n",
      "Predicted: 6\n"
     ]
    },
    {
     "data": {
      "image/png": "[encoded data removed]",
      "text/plain": [
       "<matplotlib.figure.Figure at 0x20761e76b00>"
      ]
     },
     "metadata": {},
     "output_type": "display_data"
    }
   ],
   "source": [
    "image = Image.open('hw_digit_5.png').convert('L')\n",
    "image_array = center_image(image)\n",
    "prediction = large_cnn_model.predict(image_array.reshape(1,1,28,28))\n",
    "for i, j in enumerate(prediction[0]):\n",
    "    print(\"{}: {}%\".format(i,np.round(j*100,2)))\n",
    "print(\"Predicted: {0}\".format(np.argmax(prediction)))\n",
    "plt.imshow(1-(np.array(image)/255))\n",
    "plt.show()"
   ]
  },
  {
   "cell_type": "code",
   "execution_count": null,
   "metadata": {},
   "outputs": [],
   "source": []
  }
 ],
 "metadata": {
  "kernelspec": {
   "display_name": "Python 3",
   "language": "python",
   "name": "python3"
  },
  "language_info": {
   "codemirror_mode": {
    "name": "ipython",
    "version": 3
   },
   "file_extension": ".py",
   "mimetype": "text/x-python",
   "name": "python",
   "nbconvert_exporter": "python",
   "pygments_lexer": "ipython3",
   "version": "3.7.2"
  }
 },
 "nbformat": 4,
 "nbformat_minor": 2
}
